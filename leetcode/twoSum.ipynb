{
 "cells": [
  {
   "cell_type": "markdown",
   "metadata": {},
   "source": [
    "# 两数之和"
   ]
  },
  {
   "cell_type": "code",
   "execution_count": null,
   "metadata": {},
   "outputs": [],
   "source": [
    "def twoSum(nums, target):\n",
    "    index = []\n",
    "    for i in range(len(nums)-1):\n",
    "        print(nums[i],i,'i')\n",
    "        for j in range(i+1, len(nums)):\n",
    "            print(nums[j],j,'j')\n",
    "            if nums[i] + nums[j] == target:\n",
    "                index.append(i)\n",
    "                index.append(j)\n",
    "    return index"
   ]
  },
  {
   "cell_type": "code",
   "execution_count": null,
   "metadata": {},
   "outputs": [],
   "source": [
    "nums1 = [2,4,5,8.9]\n",
    "target1 = 6\n",
    "print(twoSum(nums1,target1))"
   ]
  }
 ],
 "metadata": {
  "language_info": {
   "name": "python"
  }
 },
 "nbformat": 4,
 "nbformat_minor": 2
}
